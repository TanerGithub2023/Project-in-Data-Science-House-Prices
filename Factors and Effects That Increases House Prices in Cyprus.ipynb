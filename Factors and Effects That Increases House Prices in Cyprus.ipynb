{
 "cells": [
  {
   "cell_type": "code",
   "execution_count": 560,
   "id": "4b4fa604",
   "metadata": {},
   "outputs": [],
   "source": [
    "import pandas as pd\n",
    "import numpy as np\n",
    "import matplotlib.pyplot as plt\n"
   ]
  },
  {
   "cell_type": "code",
   "execution_count": 561,
   "id": "1f892637",
   "metadata": {},
   "outputs": [],
   "source": [
    "df = pd.read_csv(r\"Index of Production in Construction.csv\")"
   ]
  },
  {
   "cell_type": "markdown",
   "id": "a679a08d",
   "metadata": {},
   "source": [
    "Downloaded the Data of Index of Production in construction csv file \n",
    "aiming to do some analysis and show some data visualizations to give insights about reasons of why house price increases\n",
    "on what factor/effects is it increasing"
   ]
  },
  {
   "cell_type": "code",
   "execution_count": 562,
   "id": "23a77fdd",
   "metadata": {},
   "outputs": [
    {
     "data": {
      "text/html": [
       "<div>\n",
       "<style scoped>\n",
       "    .dataframe tbody tr th:only-of-type {\n",
       "        vertical-align: middle;\n",
       "    }\n",
       "\n",
       "    .dataframe tbody tr th {\n",
       "        vertical-align: top;\n",
       "    }\n",
       "\n",
       "    .dataframe thead th {\n",
       "        text-align: right;\n",
       "    }\n",
       "</style>\n",
       "<table border=\"1\" class=\"dataframe\">\n",
       "  <thead>\n",
       "    <tr style=\"text-align: right;\">\n",
       "      <th></th>\n",
       "      <th>Year</th>\n",
       "      <th>Building Construction Index</th>\n",
       "    </tr>\n",
       "  </thead>\n",
       "  <tbody>\n",
       "    <tr>\n",
       "      <th>0</th>\n",
       "      <td>2018</td>\n",
       "      <td>197.17</td>\n",
       "    </tr>\n",
       "    <tr>\n",
       "      <th>1</th>\n",
       "      <td>2019</td>\n",
       "      <td>230.57</td>\n",
       "    </tr>\n",
       "    <tr>\n",
       "      <th>2</th>\n",
       "      <td>2020</td>\n",
       "      <td>214.62</td>\n",
       "    </tr>\n",
       "    <tr>\n",
       "      <th>3</th>\n",
       "      <td>2021</td>\n",
       "      <td>224.58</td>\n",
       "    </tr>\n",
       "    <tr>\n",
       "      <th>4</th>\n",
       "      <td>2022</td>\n",
       "      <td>209.32</td>\n",
       "    </tr>\n",
       "    <tr>\n",
       "      <th>5</th>\n",
       "      <td>2023</td>\n",
       "      <td>226.74</td>\n",
       "    </tr>\n",
       "  </tbody>\n",
       "</table>\n",
       "</div>"
      ],
      "text/plain": [
       "   Year  Building Construction Index\n",
       "0  2018                       197.17\n",
       "1  2019                       230.57\n",
       "2  2020                       214.62\n",
       "3  2021                       224.58\n",
       "4  2022                       209.32\n",
       "5  2023                       226.74"
      ]
     },
     "execution_count": 562,
     "metadata": {},
     "output_type": "execute_result"
    }
   ],
   "source": [
    "df.head(6)\n",
    "df=df.reindex(columns=['Year','Building Construction Index'])\n",
    "df"
   ]
  },
  {
   "cell_type": "markdown",
   "id": "f745ba6a",
   "metadata": {},
   "source": [
    "Calculated total mean of last 6 years"
   ]
  },
  {
   "cell_type": "code",
   "execution_count": 563,
   "id": "967afdfe",
   "metadata": {},
   "outputs": [
    {
     "data": {
      "text/plain": [
       "217.16666666666666"
      ]
     },
     "execution_count": 563,
     "metadata": {},
     "output_type": "execute_result"
    }
   ],
   "source": [
    "df['Building Construction Index'].mean()"
   ]
  },
  {
   "cell_type": "markdown",
   "id": "ae80b395",
   "metadata": {},
   "source": [
    "Illustrating Pivot Table to see mean,median,min,max of each year"
   ]
  },
  {
   "cell_type": "code",
   "execution_count": 564,
   "id": "fab461f2",
   "metadata": {},
   "outputs": [
    {
     "data": {
      "text/html": [
       "<div>\n",
       "<style scoped>\n",
       "    .dataframe tbody tr th:only-of-type {\n",
       "        vertical-align: middle;\n",
       "    }\n",
       "\n",
       "    .dataframe tbody tr th {\n",
       "        vertical-align: top;\n",
       "    }\n",
       "\n",
       "    .dataframe thead tr th {\n",
       "        text-align: left;\n",
       "    }\n",
       "\n",
       "    .dataframe thead tr:last-of-type th {\n",
       "        text-align: right;\n",
       "    }\n",
       "</style>\n",
       "<table border=\"1\" class=\"dataframe\">\n",
       "  <thead>\n",
       "    <tr>\n",
       "      <th></th>\n",
       "      <th>mean</th>\n",
       "      <th>median</th>\n",
       "      <th>min</th>\n",
       "      <th>max</th>\n",
       "    </tr>\n",
       "    <tr>\n",
       "      <th></th>\n",
       "      <th>Building Construction Index</th>\n",
       "      <th>Building Construction Index</th>\n",
       "      <th>Building Construction Index</th>\n",
       "      <th>Building Construction Index</th>\n",
       "    </tr>\n",
       "    <tr>\n",
       "      <th>Year</th>\n",
       "      <th></th>\n",
       "      <th></th>\n",
       "      <th></th>\n",
       "      <th></th>\n",
       "    </tr>\n",
       "  </thead>\n",
       "  <tbody>\n",
       "    <tr>\n",
       "      <th>2018</th>\n",
       "      <td>197.17</td>\n",
       "      <td>197.17</td>\n",
       "      <td>197.17</td>\n",
       "      <td>197.17</td>\n",
       "    </tr>\n",
       "    <tr>\n",
       "      <th>2019</th>\n",
       "      <td>230.57</td>\n",
       "      <td>230.57</td>\n",
       "      <td>230.57</td>\n",
       "      <td>230.57</td>\n",
       "    </tr>\n",
       "    <tr>\n",
       "      <th>2020</th>\n",
       "      <td>214.62</td>\n",
       "      <td>214.62</td>\n",
       "      <td>214.62</td>\n",
       "      <td>214.62</td>\n",
       "    </tr>\n",
       "    <tr>\n",
       "      <th>2021</th>\n",
       "      <td>224.58</td>\n",
       "      <td>224.58</td>\n",
       "      <td>224.58</td>\n",
       "      <td>224.58</td>\n",
       "    </tr>\n",
       "    <tr>\n",
       "      <th>2022</th>\n",
       "      <td>209.32</td>\n",
       "      <td>209.32</td>\n",
       "      <td>209.32</td>\n",
       "      <td>209.32</td>\n",
       "    </tr>\n",
       "    <tr>\n",
       "      <th>2023</th>\n",
       "      <td>226.74</td>\n",
       "      <td>226.74</td>\n",
       "      <td>226.74</td>\n",
       "      <td>226.74</td>\n",
       "    </tr>\n",
       "  </tbody>\n",
       "</table>\n",
       "</div>"
      ],
      "text/plain": [
       "                            mean                      median  \\\n",
       "     Building Construction Index Building Construction Index   \n",
       "Year                                                           \n",
       "2018                      197.17                      197.17   \n",
       "2019                      230.57                      230.57   \n",
       "2020                      214.62                      214.62   \n",
       "2021                      224.58                      224.58   \n",
       "2022                      209.32                      209.32   \n",
       "2023                      226.74                      226.74   \n",
       "\n",
       "                             min                         max  \n",
       "     Building Construction Index Building Construction Index  \n",
       "Year                                                          \n",
       "2018                      197.17                      197.17  \n",
       "2019                      230.57                      230.57  \n",
       "2020                      214.62                      214.62  \n",
       "2021                      224.58                      224.58  \n",
       "2022                      209.32                      209.32  \n",
       "2023                      226.74                      226.74  "
      ]
     },
     "execution_count": 564,
     "metadata": {},
     "output_type": "execute_result"
    }
   ],
   "source": [
    "pd.pivot_table(df,index='Year',values=\"Building Construction Index\",aggfunc=[np.mean,np.median,min,max])"
   ]
  },
  {
   "cell_type": "code",
   "execution_count": 565,
   "id": "2c6c3823",
   "metadata": {},
   "outputs": [
    {
     "data": {
      "text/plain": [
       "197.17"
      ]
     },
     "execution_count": 565,
     "metadata": {},
     "output_type": "execute_result"
    }
   ],
   "source": [
    "df['Building Construction Index'].min()\n"
   ]
  },
  {
   "cell_type": "code",
   "execution_count": 566,
   "id": "245caaf4",
   "metadata": {},
   "outputs": [
    {
     "data": {
      "text/plain": [
       "230.57"
      ]
     },
     "execution_count": 566,
     "metadata": {},
     "output_type": "execute_result"
    }
   ],
   "source": [
    "df['Building Construction Index'].max()"
   ]
  },
  {
   "cell_type": "code",
   "execution_count": 567,
   "id": "4da72897",
   "metadata": {},
   "outputs": [
    {
     "data": {
      "text/plain": [
       "219.60000000000002"
      ]
     },
     "execution_count": 567,
     "metadata": {},
     "output_type": "execute_result"
    }
   ],
   "source": [
    "df['Building Construction Index'].median()"
   ]
  },
  {
   "cell_type": "markdown",
   "id": "14e925f7",
   "metadata": {},
   "source": [
    "This show a line plot about the Index Of Production in Construction \n",
    "here we use columns Year and BuildingConstructionIndex.We can see a slight increase in the building construction index\n",
    "in last 6 Years."
   ]
  },
  {
   "cell_type": "code",
   "execution_count": 568,
   "id": "242cdba7",
   "metadata": {},
   "outputs": [
    {
     "data": {
      "image/png": "[encoded data removed]",
      "text/plain": [
       "<Figure size 640x480 with 1 Axes>"
      ]
     },
     "metadata": {},
     "output_type": "display_data"
    }
   ],
   "source": [
    "Year=['2018','2019','2020','2021','2022','2023']\n",
    "BuildingConstructionIndex = ['197.17','230.57','214.62','224.58','209.32','226.74']\n",
    "plt.plot(Year,BuildingConstructionIndex)\n",
    "plt.show()"
   ]
  },
  {
   "cell_type": "code",
   "execution_count": 574,
   "id": "66489e29",
   "metadata": {},
   "outputs": [
    {
     "data": {
      "image/png": "[encoded data removed]",
      "text/plain": [
       "<Figure size 640x480 with 1 Axes>"
      ]
     },
     "metadata": {},
     "output_type": "display_data"
    }
   ],
   "source": [
    "plt.plot(Year,BuildingConstructionIndex , \"o-\")\n",
    "plt.show()"
   ]
  },
  {
   "cell_type": "code",
   "execution_count": null,
   "id": "c72ad2f5",
   "metadata": {},
   "outputs": [],
   "source": []
  }
 ],
 "metadata": {
  "kernelspec": {
   "display_name": "Python 3 (ipykernel)",
   "language": "python",
   "name": "python3"
  },
  "language_info": {
   "codemirror_mode": {
    "name": "ipython",
    "version": 3
   },
   "file_extension": ".py",
   "mimetype": "text/x-python",
   "name": "python",
   "nbconvert_exporter": "python",
   "pygments_lexer": "ipython3",
   "version": "3.11.5"
  }
 },
 "nbformat": 4,
 "nbformat_minor": 5
}
